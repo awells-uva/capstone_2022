{
 "cells": [
  {
   "cell_type": "markdown",
   "metadata": {},
   "source": [
    "# Import Libraries"
   ]
  },
  {
   "cell_type": "code",
   "execution_count": null,
   "metadata": {},
   "outputs": [],
   "source": [
    "!pip install lazypredict --upgrade lazypredict"
   ]
  },
  {
   "cell_type": "code",
   "execution_count": null,
   "metadata": {},
   "outputs": [],
   "source": [
    "!pip install gensim"
   ]
  },
  {
   "cell_type": "code",
   "execution_count": null,
   "metadata": {},
   "outputs": [],
   "source": [
    "!pip install pyLDAvis"
   ]
  },
  {
   "cell_type": "code",
   "execution_count": null,
   "metadata": {},
   "outputs": [],
   "source": [
    "!pip install pymc3\n",
    "!pip install arviz"
   ]
  },
  {
   "cell_type": "code",
   "execution_count": null,
   "metadata": {},
   "outputs": [],
   "source": [
    "!pip install xgboost"
   ]
  },
  {
   "cell_type": "code",
   "execution_count": 24,
   "metadata": {},
   "outputs": [],
   "source": [
    "import pandas as pd\n",
    "import numpy as np\n",
    "from sklearn.feature_extraction.text import TfidfVectorizer\n",
    "from sklearn.feature_extraction.text import CountVectorizer\n",
    "from sklearn.model_selection import train_test_split\n",
    "import statsmodels.api as sm\n",
    "from statsmodels.tools import add_constant\n",
    "from sklearn.preprocessing import StandardScaler\n",
    "from sklearn.decomposition import PCA\n",
    "from sklearn.decomposition import TruncatedSVD\n",
    "import arviz as az\n",
    "from sklearn.metrics import accuracy_score\n",
    "from lazypredict.Supervised import LazyClassifier, LazyRegressor\n",
    "from sklearn.mixture import GaussianMixture\n",
    "import gensim\n",
    "import gensim.corpora as corpora\n",
    "# import pymc3 as pm\n",
    "from xgboost import XGBClassifier\n",
    "from sklearn.model_selection import RandomizedSearchCV\n",
    "import seaborn as sns\n",
    "import matplotlib.pyplot as plt\n",
    "from sklearn.metrics import confusion_matrix"
   ]
  },
  {
   "cell_type": "markdown",
   "metadata": {},
   "source": [
    "# Import Data"
   ]
  },
  {
   "cell_type": "code",
   "execution_count": 2,
   "metadata": {},
   "outputs": [
    {
     "data": {
      "text/html": [
       "<div>\n",
       "<style scoped>\n",
       "    .dataframe tbody tr th:only-of-type {\n",
       "        vertical-align: middle;\n",
       "    }\n",
       "\n",
       "    .dataframe tbody tr th {\n",
       "        vertical-align: top;\n",
       "    }\n",
       "\n",
       "    .dataframe thead th {\n",
       "        text-align: right;\n",
       "    }\n",
       "</style>\n",
       "<table border=\"1\" class=\"dataframe\">\n",
       "  <thead>\n",
       "    <tr style=\"text-align: right;\">\n",
       "      <th></th>\n",
       "      <th>index</th>\n",
       "      <th>kmer_seq</th>\n",
       "      <th>project_id</th>\n",
       "      <th>run_accession</th>\n",
       "      <th>sample_accession</th>\n",
       "      <th>center_name</th>\n",
       "      <th>instrument_platform</th>\n",
       "      <th>instrument_model</th>\n",
       "      <th>host</th>\n",
       "      <th>Topic 0</th>\n",
       "      <th>Topic 1</th>\n",
       "      <th>Topic 2</th>\n",
       "      <th>Topic 3</th>\n",
       "      <th>optimal</th>\n",
       "    </tr>\n",
       "  </thead>\n",
       "  <tbody>\n",
       "    <tr>\n",
       "      <th>0</th>\n",
       "      <td>1291554</td>\n",
       "      <td>TTTTTATTTTTATATGCTGAGCCAG</td>\n",
       "      <td>PRJEB35615</td>\n",
       "      <td>ERR3698084</td>\n",
       "      <td>SAMEA6262668</td>\n",
       "      <td>Department of Ophthalmology, Inselspital</td>\n",
       "      <td>ILLUMINA</td>\n",
       "      <td>Illumina HiSeq 3000</td>\n",
       "      <td>NaN</td>\n",
       "      <td>0.25</td>\n",
       "      <td>0.25</td>\n",
       "      <td>0.25</td>\n",
       "      <td>0.25</td>\n",
       "      <td>-1</td>\n",
       "    </tr>\n",
       "    <tr>\n",
       "      <th>1</th>\n",
       "      <td>505306</td>\n",
       "      <td>GCGGTGGCTCACGCCTGTAATCCCA</td>\n",
       "      <td>PRJEB35615</td>\n",
       "      <td>ERR3698057</td>\n",
       "      <td>SAMEA6262641</td>\n",
       "      <td>Department of Ophthalmology, Inselspital</td>\n",
       "      <td>ILLUMINA</td>\n",
       "      <td>Illumina HiSeq 3000</td>\n",
       "      <td>NaN</td>\n",
       "      <td>0.60</td>\n",
       "      <td>0.13</td>\n",
       "      <td>0.14</td>\n",
       "      <td>0.13</td>\n",
       "      <td>0</td>\n",
       "    </tr>\n",
       "    <tr>\n",
       "      <th>2</th>\n",
       "      <td>1580819</td>\n",
       "      <td>TTGCTCTTGTCGCCCCGGCTGGAGT</td>\n",
       "      <td>PRJEB35615</td>\n",
       "      <td>ERR3698091</td>\n",
       "      <td>SAMEA6262675</td>\n",
       "      <td>Department of Ophthalmology, Inselspital</td>\n",
       "      <td>ILLUMINA</td>\n",
       "      <td>Illumina HiSeq 3000</td>\n",
       "      <td>NaN</td>\n",
       "      <td>0.25</td>\n",
       "      <td>0.25</td>\n",
       "      <td>0.25</td>\n",
       "      <td>0.25</td>\n",
       "      <td>-1</td>\n",
       "    </tr>\n",
       "    <tr>\n",
       "      <th>3</th>\n",
       "      <td>1771663</td>\n",
       "      <td>CTTTCAAAATCATCAGCAATAATAA</td>\n",
       "      <td>PRJEB35615</td>\n",
       "      <td>ERR3698096</td>\n",
       "      <td>SAMEA6262680</td>\n",
       "      <td>Department of Ophthalmology, Inselspital</td>\n",
       "      <td>ILLUMINA</td>\n",
       "      <td>Illumina HiSeq 3000</td>\n",
       "      <td>NaN</td>\n",
       "      <td>0.25</td>\n",
       "      <td>0.25</td>\n",
       "      <td>0.25</td>\n",
       "      <td>0.25</td>\n",
       "      <td>-1</td>\n",
       "    </tr>\n",
       "    <tr>\n",
       "      <th>4</th>\n",
       "      <td>945757</td>\n",
       "      <td>GGAGAATCGCTTGAACCTGGGAGGT</td>\n",
       "      <td>PRJEB35615</td>\n",
       "      <td>ERR3698079</td>\n",
       "      <td>SAMEA6262663</td>\n",
       "      <td>Department of Ophthalmology, Inselspital</td>\n",
       "      <td>ILLUMINA</td>\n",
       "      <td>Illumina HiSeq 3000</td>\n",
       "      <td>NaN</td>\n",
       "      <td>0.25</td>\n",
       "      <td>0.25</td>\n",
       "      <td>0.25</td>\n",
       "      <td>0.25</td>\n",
       "      <td>-1</td>\n",
       "    </tr>\n",
       "  </tbody>\n",
       "</table>\n",
       "</div>"
      ],
      "text/plain": [
       "     index                   kmer_seq  project_id run_accession  \\\n",
       "0  1291554  TTTTTATTTTTATATGCTGAGCCAG  PRJEB35615    ERR3698084   \n",
       "1   505306  GCGGTGGCTCACGCCTGTAATCCCA  PRJEB35615    ERR3698057   \n",
       "2  1580819  TTGCTCTTGTCGCCCCGGCTGGAGT  PRJEB35615    ERR3698091   \n",
       "3  1771663  CTTTCAAAATCATCAGCAATAATAA  PRJEB35615    ERR3698096   \n",
       "4   945757  GGAGAATCGCTTGAACCTGGGAGGT  PRJEB35615    ERR3698079   \n",
       "\n",
       "  sample_accession                               center_name  \\\n",
       "0     SAMEA6262668  Department of Ophthalmology, Inselspital   \n",
       "1     SAMEA6262641  Department of Ophthalmology, Inselspital   \n",
       "2     SAMEA6262675  Department of Ophthalmology, Inselspital   \n",
       "3     SAMEA6262680  Department of Ophthalmology, Inselspital   \n",
       "4     SAMEA6262663  Department of Ophthalmology, Inselspital   \n",
       "\n",
       "  instrument_platform     instrument_model host  Topic 0  Topic 1  Topic 2  \\\n",
       "0            ILLUMINA  Illumina HiSeq 3000  NaN     0.25     0.25     0.25   \n",
       "1            ILLUMINA  Illumina HiSeq 3000  NaN     0.60     0.13     0.14   \n",
       "2            ILLUMINA  Illumina HiSeq 3000  NaN     0.25     0.25     0.25   \n",
       "3            ILLUMINA  Illumina HiSeq 3000  NaN     0.25     0.25     0.25   \n",
       "4            ILLUMINA  Illumina HiSeq 3000  NaN     0.25     0.25     0.25   \n",
       "\n",
       "   Topic 3  optimal  \n",
       "0     0.25       -1  \n",
       "1     0.13        0  \n",
       "2     0.25       -1  \n",
       "3     0.25       -1  \n",
       "4     0.25       -1  "
      ]
     },
     "execution_count": 2,
     "metadata": {},
     "output_type": "execute_result"
    }
   ],
   "source": [
    "cluster_df = pd.read_csv('cluster_sample.csv')\n",
    "cluster_df.head()"
   ]
  },
  {
   "cell_type": "code",
   "execution_count": 3,
   "metadata": {},
   "outputs": [
    {
     "name": "stdout",
     "output_type": "stream",
     "text": [
      "<class 'pandas.core.frame.DataFrame'>\n",
      "RangeIndex: 76384 entries, 0 to 76383\n",
      "Data columns (total 14 columns):\n",
      " #   Column               Non-Null Count  Dtype  \n",
      "---  ------               --------------  -----  \n",
      " 0   index                76384 non-null  int64  \n",
      " 1   kmer_seq             76384 non-null  object \n",
      " 2   project_id           76384 non-null  object \n",
      " 3   run_accession        76384 non-null  object \n",
      " 4   sample_accession     76384 non-null  object \n",
      " 5   center_name          76384 non-null  object \n",
      " 6   instrument_platform  76384 non-null  object \n",
      " 7   instrument_model     76384 non-null  object \n",
      " 8   host                 19096 non-null  object \n",
      " 9   Topic 0              76384 non-null  float64\n",
      " 10  Topic 1              76384 non-null  float64\n",
      " 11  Topic 2              76384 non-null  float64\n",
      " 12  Topic 3              76384 non-null  float64\n",
      " 13  optimal              76384 non-null  int64  \n",
      "dtypes: float64(4), int64(2), object(8)\n",
      "memory usage: 8.2+ MB\n"
     ]
    }
   ],
   "source": [
    "cluster_df.info()"
   ]
  },
  {
   "cell_type": "markdown",
   "metadata": {},
   "source": [
    "# Data Preparation"
   ]
  },
  {
   "cell_type": "code",
   "execution_count": 4,
   "metadata": {},
   "outputs": [],
   "source": [
    "# A little feature engineering\n",
    "cluster_df['sequence_freq_a']  = cluster_df['kmer_seq'].str.count('A')/cluster_df['kmer_seq'].str.len()\n",
    "cluster_df['sequence_freq_c']  = cluster_df['kmer_seq'].str.count('C')/cluster_df['kmer_seq'].str.len()\n",
    "cluster_df['sequence_freq_g']  = cluster_df['kmer_seq'].str.count('G')/cluster_df['kmer_seq'].str.len()\n",
    "cluster_df['sequence_freq_t']  = cluster_df['kmer_seq'].str.count('T')/cluster_df['kmer_seq'].str.len()"
   ]
  },
  {
   "cell_type": "code",
   "execution_count": 5,
   "metadata": {},
   "outputs": [],
   "source": [
    "# Train - Test split\n",
    "X_train, X_test, y_train, y_test = train_test_split(cluster_df.loc[:, cluster_df.columns.str.match('^Topic|^sequence')], \n",
    "                                                    cluster_df['center_name'], \n",
    "                                                    test_size = 0.20, \n",
    "                                                    random_state=42)"
   ]
  },
  {
   "cell_type": "code",
   "execution_count": 6,
   "metadata": {},
   "outputs": [
    {
     "data": {
      "text/html": [
       "<div>\n",
       "<style scoped>\n",
       "    .dataframe tbody tr th:only-of-type {\n",
       "        vertical-align: middle;\n",
       "    }\n",
       "\n",
       "    .dataframe tbody tr th {\n",
       "        vertical-align: top;\n",
       "    }\n",
       "\n",
       "    .dataframe thead th {\n",
       "        text-align: right;\n",
       "    }\n",
       "</style>\n",
       "<table border=\"1\" class=\"dataframe\">\n",
       "  <thead>\n",
       "    <tr style=\"text-align: right;\">\n",
       "      <th></th>\n",
       "      <th>Topic 0</th>\n",
       "      <th>Topic 1</th>\n",
       "      <th>Topic 2</th>\n",
       "      <th>Topic 3</th>\n",
       "      <th>sequence_freq_a</th>\n",
       "      <th>sequence_freq_c</th>\n",
       "      <th>sequence_freq_g</th>\n",
       "      <th>sequence_freq_t</th>\n",
       "    </tr>\n",
       "  </thead>\n",
       "  <tbody>\n",
       "    <tr>\n",
       "      <th>34168</th>\n",
       "      <td>0.14</td>\n",
       "      <td>0.14</td>\n",
       "      <td>0.13</td>\n",
       "      <td>0.59</td>\n",
       "      <td>0.40</td>\n",
       "      <td>0.36</td>\n",
       "      <td>0.08</td>\n",
       "      <td>0.16</td>\n",
       "    </tr>\n",
       "    <tr>\n",
       "      <th>25116</th>\n",
       "      <td>0.59</td>\n",
       "      <td>0.14</td>\n",
       "      <td>0.13</td>\n",
       "      <td>0.13</td>\n",
       "      <td>0.40</td>\n",
       "      <td>0.40</td>\n",
       "      <td>0.08</td>\n",
       "      <td>0.12</td>\n",
       "    </tr>\n",
       "    <tr>\n",
       "      <th>40552</th>\n",
       "      <td>0.25</td>\n",
       "      <td>0.25</td>\n",
       "      <td>0.25</td>\n",
       "      <td>0.25</td>\n",
       "      <td>0.28</td>\n",
       "      <td>0.08</td>\n",
       "      <td>0.20</td>\n",
       "      <td>0.44</td>\n",
       "    </tr>\n",
       "    <tr>\n",
       "      <th>70410</th>\n",
       "      <td>0.14</td>\n",
       "      <td>0.14</td>\n",
       "      <td>0.58</td>\n",
       "      <td>0.14</td>\n",
       "      <td>0.28</td>\n",
       "      <td>0.00</td>\n",
       "      <td>0.32</td>\n",
       "      <td>0.40</td>\n",
       "    </tr>\n",
       "    <tr>\n",
       "      <th>72678</th>\n",
       "      <td>0.25</td>\n",
       "      <td>0.25</td>\n",
       "      <td>0.25</td>\n",
       "      <td>0.25</td>\n",
       "      <td>0.00</td>\n",
       "      <td>0.44</td>\n",
       "      <td>0.04</td>\n",
       "      <td>0.52</td>\n",
       "    </tr>\n",
       "  </tbody>\n",
       "</table>\n",
       "</div>"
      ],
      "text/plain": [
       "       Topic 0  Topic 1  Topic 2  Topic 3  sequence_freq_a  sequence_freq_c  \\\n",
       "34168     0.14     0.14     0.13     0.59             0.40             0.36   \n",
       "25116     0.59     0.14     0.13     0.13             0.40             0.40   \n",
       "40552     0.25     0.25     0.25     0.25             0.28             0.08   \n",
       "70410     0.14     0.14     0.58     0.14             0.28             0.00   \n",
       "72678     0.25     0.25     0.25     0.25             0.00             0.44   \n",
       "\n",
       "       sequence_freq_g  sequence_freq_t  \n",
       "34168             0.08             0.16  \n",
       "25116             0.08             0.12  \n",
       "40552             0.20             0.44  \n",
       "70410             0.32             0.40  \n",
       "72678             0.04             0.52  "
      ]
     },
     "execution_count": 6,
     "metadata": {},
     "output_type": "execute_result"
    }
   ],
   "source": [
    "X_train.head()"
   ]
  },
  {
   "cell_type": "code",
   "execution_count": 7,
   "metadata": {},
   "outputs": [],
   "source": [
    "# Standardize\n",
    "scaler = StandardScaler(with_mean= False)\n",
    "scaler.fit(X_train)\n",
    "X_train = scaler.transform(X_train)\n",
    "X_test = scaler.transform(X_test)"
   ]
  },
  {
   "cell_type": "markdown",
   "metadata": {},
   "source": [
    "# Lazy Classifier"
   ]
  },
  {
   "cell_type": "code",
   "execution_count": null,
   "metadata": {},
   "outputs": [],
   "source": [
    "clf = LazyClassifier(predictions=True)\n",
    "models, predictions = clf.fit(X_train, X_test, y_train, y_test)\n",
    "models"
   ]
  },
  {
   "cell_type": "markdown",
   "metadata": {},
   "source": [
    "# Mixed Gaussian"
   ]
  },
  {
   "cell_type": "code",
   "execution_count": 8,
   "metadata": {},
   "outputs": [
    {
     "data": {
      "text/plain": [
       "0  1                                       \n",
       "0  Weill Cornell Medical College in Qatar       645\n",
       "   GEO                                          345\n",
       "   Department of Ophthalmology, Inselspital      64\n",
       "   SUB9454898                                    21\n",
       "1  GEO                                          374\n",
       "   Weill Cornell Medical College in Qatar       277\n",
       "   Department of Ophthalmology, Inselspital     193\n",
       "   SUB9454898                                    87\n",
       "2  Department of Ophthalmology, Inselspital    3515\n",
       "   SUB9454898                                  2891\n",
       "   Weill Cornell Medical College in Qatar      2330\n",
       "   GEO                                         1692\n",
       "3  GEO                                         1248\n",
       "   Weill Cornell Medical College in Qatar       469\n",
       "   SUB9454898                                    26\n",
       "   Department of Ophthalmology, Inselspital       2\n",
       "4  SUB9454898                                   790\n",
       "   GEO                                          154\n",
       "   Weill Cornell Medical College in Qatar       145\n",
       "   Department of Ophthalmology, Inselspital       9\n",
       "Name: 1, dtype: int64"
      ]
     },
     "execution_count": 8,
     "metadata": {},
     "output_type": "execute_result"
    }
   ],
   "source": [
    "model = GaussianMixture(n_components=5, tol=0.1, covariance_type = 'full', random_state = 42, n_init=3)\n",
    "model.fit(X_train)\n",
    "yhat = pd.Series(model.predict(X_test))\n",
    "pd.concat([yhat.reset_index(drop = True),y_test.reset_index(drop = True)],axis = 1, ignore_index = True).groupby([0])[1].value_counts()"
   ]
  },
  {
   "cell_type": "code",
   "execution_count": 9,
   "metadata": {},
   "outputs": [
    {
     "data": {
      "text/plain": [
       "0        3\n",
       "1        2\n",
       "2        2\n",
       "3        2\n",
       "4        0\n",
       "        ..\n",
       "15272    2\n",
       "15273    2\n",
       "15274    2\n",
       "15275    2\n",
       "15276    2\n",
       "Length: 15277, dtype: int64"
      ]
     },
     "execution_count": 9,
     "metadata": {},
     "output_type": "execute_result"
    }
   ],
   "source": [
    "yhat"
   ]
  },
  {
   "cell_type": "markdown",
   "metadata": {},
   "source": [
    "# KMER's Of Interest"
   ]
  },
  {
   "cell_type": "code",
   "execution_count": 10,
   "metadata": {},
   "outputs": [],
   "source": [
    "params = {\n",
    " \"learning_rate\" : [0.05,0.10,0.15,0.20,0.25,0.30],\n",
    " \"max_depth\" : [ 3, 4, 5, 6, 8, 10, 12, 15],\n",
    " \"min_child_weight\" : [ 1, 3, 5, 7 ],\n",
    " \"gamma\": [ 0.0, 0.1, 0.2 , 0.3, 0.4 ],\n",
    " \"colsample_bytree\" : [ 0.3, 0.4, 0.5 , 0.7 ]\n",
    "}"
   ]
  },
  {
   "cell_type": "code",
   "execution_count": 11,
   "metadata": {},
   "outputs": [
    {
     "name": "stdout",
     "output_type": "stream",
     "text": [
      "Fitting 5 folds for each of 3 candidates, totalling 15 fits\n"
     ]
    },
    {
     "name": "stderr",
     "output_type": "stream",
     "text": [
      "[Parallel(n_jobs=-1)]: Using backend LokyBackend with 4 concurrent workers.\n",
      "[Parallel(n_jobs=-1)]: Done  15 out of  15 | elapsed:  1.2min finished\n"
     ]
    },
    {
     "name": "stdout",
     "output_type": "stream",
     "text": [
      "RandomizedSearchCV(cv=5,\n",
      "                   estimator=XGBClassifier(base_score=None, booster=None,\n",
      "                                           colsample_bylevel=None,\n",
      "                                           colsample_bynode=None,\n",
      "                                           colsample_bytree=None, gamma=None,\n",
      "                                           gpu_id=None, importance_type='gain',\n",
      "                                           interaction_constraints=None,\n",
      "                                           learning_rate=None,\n",
      "                                           max_delta_step=None, max_depth=None,\n",
      "                                           min_child_weight=None, missing=nan,\n",
      "                                           monotone_constraints=None,\n",
      "                                           n_estimators=100,...\n",
      "                                           reg_lambda=None,\n",
      "                                           scale_pos_weight=None,\n",
      "                                           subsample=None, tree_method=None,\n",
      "                                           validate_parameters=None,\n",
      "                                           verbosity=None),\n",
      "                   n_iter=3, n_jobs=-1,\n",
      "                   param_distributions={'colsample_bytree': [0.3, 0.4, 0.5,\n",
      "                                                             0.7],\n",
      "                                        'gamma': [0.0, 0.1, 0.2, 0.3, 0.4],\n",
      "                                        'learning_rate': [0.05, 0.1, 0.15, 0.2,\n",
      "                                                          0.25, 0.3],\n",
      "                                        'max_depth': [3, 4, 5, 6, 8, 10, 12,\n",
      "                                                      15],\n",
      "                                        'min_child_weight': [1, 3, 5, 7]},\n",
      "                   scoring='accuracy', verbose=3)\n"
     ]
    }
   ],
   "source": [
    "model = XGBClassifier()\n",
    "model= RandomizedSearchCV(model,param_distributions=params,n_iter=3,scoring='accuracy',n_jobs=-1,cv=5,verbose=3)\n",
    "model.fit(X_train, y_train)\n",
    "print(model)"
   ]
  },
  {
   "cell_type": "code",
   "execution_count": 16,
   "metadata": {},
   "outputs": [
    {
     "data": {
      "text/plain": [
       "{'min_child_weight': 1,\n",
       " 'max_depth': 12,\n",
       " 'learning_rate': 0.05,\n",
       " 'gamma': 0.3,\n",
       " 'colsample_bytree': 0.7}"
      ]
     },
     "execution_count": 16,
     "metadata": {},
     "output_type": "execute_result"
    }
   ],
   "source": [
    "model.best_params_"
   ]
  },
  {
   "cell_type": "code",
   "execution_count": null,
   "metadata": {},
   "outputs": [],
   "source": [
    "#Attempt 2\n",
    "params = {\n",
    " \"learning_rate\" : [0.20,0.225,0.25,0.275,0.30,0.35],\n",
    " \"max_depth\" : [12,13,14, 15],\n",
    " \"min_child_weight\" : [ 2, 3,4, 5 ],\n",
    " \"gamma\": [ 0.35, 0.4, 0.45,0.5 ],\n",
    " \"colsample_bytree\" : [ 0.2,0.25,0.3, 0.35 ]\n",
    "}\n",
    "model = XGBClassifier()\n",
    "model= RandomizedSearchCV(model,param_distributions=params,n_iter=3,scoring='accuracy',n_jobs=-1,cv=5,verbose=3)\n",
    "model.fit(X_train, y_train)\n",
    "print(model)"
   ]
  },
  {
   "cell_type": "code",
   "execution_count": 18,
   "metadata": {},
   "outputs": [
    {
     "data": {
      "text/plain": [
       "xgboost.sklearn.XGBClassifier"
      ]
     },
     "execution_count": 18,
     "metadata": {},
     "output_type": "execute_result"
    }
   ],
   "source": [
    "type(model.best_estimator_)"
   ]
  },
  {
   "cell_type": "code",
   "execution_count": null,
   "metadata": {},
   "outputs": [],
   "source": [
    "model = XGBClassifier(learning_rate = 0.25,max_depth = 12, min_child_weight = 5, gamma= 0.5, colsample_bytree = 0.2)\n",
    "model.fit(X_train, y_train)"
   ]
  },
  {
   "cell_type": "code",
   "execution_count": 19,
   "metadata": {},
   "outputs": [
    {
     "data": {
      "text/html": [
       "<div>\n",
       "<style scoped>\n",
       "    .dataframe tbody tr th:only-of-type {\n",
       "        vertical-align: middle;\n",
       "    }\n",
       "\n",
       "    .dataframe tbody tr th {\n",
       "        vertical-align: top;\n",
       "    }\n",
       "\n",
       "    .dataframe thead th {\n",
       "        text-align: right;\n",
       "    }\n",
       "</style>\n",
       "<table border=\"1\" class=\"dataframe\">\n",
       "  <thead>\n",
       "    <tr style=\"text-align: right;\">\n",
       "      <th></th>\n",
       "      <th>Department of Ophthalmology, Inselspital</th>\n",
       "      <th>GEO</th>\n",
       "      <th>SUB9454898</th>\n",
       "      <th>Weill Cornell Medical College in Qatar</th>\n",
       "    </tr>\n",
       "  </thead>\n",
       "  <tbody>\n",
       "    <tr>\n",
       "      <th>0</th>\n",
       "      <td>0.01</td>\n",
       "      <td>0.71</td>\n",
       "      <td>0.01</td>\n",
       "      <td>0.27</td>\n",
       "    </tr>\n",
       "    <tr>\n",
       "      <th>1</th>\n",
       "      <td>0.33</td>\n",
       "      <td>0.19</td>\n",
       "      <td>0.25</td>\n",
       "      <td>0.23</td>\n",
       "    </tr>\n",
       "    <tr>\n",
       "      <th>2</th>\n",
       "      <td>0.43</td>\n",
       "      <td>0.09</td>\n",
       "      <td>0.24</td>\n",
       "      <td>0.25</td>\n",
       "    </tr>\n",
       "    <tr>\n",
       "      <th>3</th>\n",
       "      <td>0.29</td>\n",
       "      <td>0.20</td>\n",
       "      <td>0.27</td>\n",
       "      <td>0.23</td>\n",
       "    </tr>\n",
       "    <tr>\n",
       "      <th>4</th>\n",
       "      <td>0.02</td>\n",
       "      <td>0.38</td>\n",
       "      <td>0.02</td>\n",
       "      <td>0.59</td>\n",
       "    </tr>\n",
       "    <tr>\n",
       "      <th>...</th>\n",
       "      <td>...</td>\n",
       "      <td>...</td>\n",
       "      <td>...</td>\n",
       "      <td>...</td>\n",
       "    </tr>\n",
       "    <tr>\n",
       "      <th>15272</th>\n",
       "      <td>0.29</td>\n",
       "      <td>0.17</td>\n",
       "      <td>0.26</td>\n",
       "      <td>0.28</td>\n",
       "    </tr>\n",
       "    <tr>\n",
       "      <th>15273</th>\n",
       "      <td>0.54</td>\n",
       "      <td>0.16</td>\n",
       "      <td>0.07</td>\n",
       "      <td>0.22</td>\n",
       "    </tr>\n",
       "    <tr>\n",
       "      <th>15274</th>\n",
       "      <td>0.30</td>\n",
       "      <td>0.20</td>\n",
       "      <td>0.27</td>\n",
       "      <td>0.23</td>\n",
       "    </tr>\n",
       "    <tr>\n",
       "      <th>15275</th>\n",
       "      <td>0.36</td>\n",
       "      <td>0.17</td>\n",
       "      <td>0.27</td>\n",
       "      <td>0.21</td>\n",
       "    </tr>\n",
       "    <tr>\n",
       "      <th>15276</th>\n",
       "      <td>0.30</td>\n",
       "      <td>0.21</td>\n",
       "      <td>0.23</td>\n",
       "      <td>0.26</td>\n",
       "    </tr>\n",
       "  </tbody>\n",
       "</table>\n",
       "<p>15277 rows × 4 columns</p>\n",
       "</div>"
      ],
      "text/plain": [
       "       Department of Ophthalmology, Inselspital  GEO  SUB9454898  \\\n",
       "0                                          0.01 0.71        0.01   \n",
       "1                                          0.33 0.19        0.25   \n",
       "2                                          0.43 0.09        0.24   \n",
       "3                                          0.29 0.20        0.27   \n",
       "4                                          0.02 0.38        0.02   \n",
       "...                                         ...  ...         ...   \n",
       "15272                                      0.29 0.17        0.26   \n",
       "15273                                      0.54 0.16        0.07   \n",
       "15274                                      0.30 0.20        0.27   \n",
       "15275                                      0.36 0.17        0.27   \n",
       "15276                                      0.30 0.21        0.23   \n",
       "\n",
       "       Weill Cornell Medical College in Qatar  \n",
       "0                                        0.27  \n",
       "1                                        0.23  \n",
       "2                                        0.25  \n",
       "3                                        0.23  \n",
       "4                                        0.59  \n",
       "...                                       ...  \n",
       "15272                                    0.28  \n",
       "15273                                    0.22  \n",
       "15274                                    0.23  \n",
       "15275                                    0.21  \n",
       "15276                                    0.26  \n",
       "\n",
       "[15277 rows x 4 columns]"
      ]
     },
     "execution_count": 19,
     "metadata": {},
     "output_type": "execute_result"
    }
   ],
   "source": [
    "y_pred = model.predict_proba(X_test)\n",
    "predictions = pd.DataFrame(y_pred)\n",
    "predictions.columns = list(model.classes_)\n",
    "predictions"
   ]
  },
  {
   "cell_type": "code",
   "execution_count": 20,
   "metadata": {},
   "outputs": [
    {
     "name": "stdout",
     "output_type": "stream",
     "text": [
      "Accuracy: 50.78%\n"
     ]
    }
   ],
   "source": [
    "y_pred = model.predict(X_test)\n",
    "accuracy = accuracy_score(y_test, y_pred)\n",
    "print(\"Accuracy: %.2f%%\" % (accuracy * 100.0))"
   ]
  },
  {
   "cell_type": "code",
   "execution_count": 21,
   "metadata": {},
   "outputs": [
    {
     "data": {
      "text/html": [
       "<div>\n",
       "<style scoped>\n",
       "    .dataframe tbody tr th:only-of-type {\n",
       "        vertical-align: middle;\n",
       "    }\n",
       "\n",
       "    .dataframe tbody tr th {\n",
       "        vertical-align: top;\n",
       "    }\n",
       "\n",
       "    .dataframe thead th {\n",
       "        text-align: right;\n",
       "    }\n",
       "</style>\n",
       "<table border=\"1\" class=\"dataframe\">\n",
       "  <thead>\n",
       "    <tr style=\"text-align: right;\">\n",
       "      <th></th>\n",
       "      <th>Department of Ophthalmology, Inselspital</th>\n",
       "      <th>GEO</th>\n",
       "      <th>SUB9454898</th>\n",
       "      <th>Weill Cornell Medical College in Qatar</th>\n",
       "      <th>predict_label</th>\n",
       "      <th>actual_label</th>\n",
       "    </tr>\n",
       "  </thead>\n",
       "  <tbody>\n",
       "    <tr>\n",
       "      <th>0</th>\n",
       "      <td>0.01</td>\n",
       "      <td>0.71</td>\n",
       "      <td>0.01</td>\n",
       "      <td>0.27</td>\n",
       "      <td>GEO</td>\n",
       "      <td>GEO</td>\n",
       "    </tr>\n",
       "    <tr>\n",
       "      <th>1</th>\n",
       "      <td>0.33</td>\n",
       "      <td>0.19</td>\n",
       "      <td>0.25</td>\n",
       "      <td>0.23</td>\n",
       "      <td>Department of Ophthalmology, Inselspital</td>\n",
       "      <td>GEO</td>\n",
       "    </tr>\n",
       "    <tr>\n",
       "      <th>2</th>\n",
       "      <td>0.43</td>\n",
       "      <td>0.09</td>\n",
       "      <td>0.24</td>\n",
       "      <td>0.25</td>\n",
       "      <td>Department of Ophthalmology, Inselspital</td>\n",
       "      <td>GEO</td>\n",
       "    </tr>\n",
       "    <tr>\n",
       "      <th>3</th>\n",
       "      <td>0.29</td>\n",
       "      <td>0.20</td>\n",
       "      <td>0.27</td>\n",
       "      <td>0.23</td>\n",
       "      <td>Department of Ophthalmology, Inselspital</td>\n",
       "      <td>SUB9454898</td>\n",
       "    </tr>\n",
       "    <tr>\n",
       "      <th>4</th>\n",
       "      <td>0.02</td>\n",
       "      <td>0.38</td>\n",
       "      <td>0.02</td>\n",
       "      <td>0.59</td>\n",
       "      <td>Weill Cornell Medical College in Qatar</td>\n",
       "      <td>GEO</td>\n",
       "    </tr>\n",
       "    <tr>\n",
       "      <th>...</th>\n",
       "      <td>...</td>\n",
       "      <td>...</td>\n",
       "      <td>...</td>\n",
       "      <td>...</td>\n",
       "      <td>...</td>\n",
       "      <td>...</td>\n",
       "    </tr>\n",
       "    <tr>\n",
       "      <th>15272</th>\n",
       "      <td>0.29</td>\n",
       "      <td>0.17</td>\n",
       "      <td>0.26</td>\n",
       "      <td>0.28</td>\n",
       "      <td>Department of Ophthalmology, Inselspital</td>\n",
       "      <td>SUB9454898</td>\n",
       "    </tr>\n",
       "    <tr>\n",
       "      <th>15273</th>\n",
       "      <td>0.54</td>\n",
       "      <td>0.16</td>\n",
       "      <td>0.07</td>\n",
       "      <td>0.22</td>\n",
       "      <td>Department of Ophthalmology, Inselspital</td>\n",
       "      <td>Department of Ophthalmology, Inselspital</td>\n",
       "    </tr>\n",
       "    <tr>\n",
       "      <th>15274</th>\n",
       "      <td>0.30</td>\n",
       "      <td>0.20</td>\n",
       "      <td>0.27</td>\n",
       "      <td>0.23</td>\n",
       "      <td>Department of Ophthalmology, Inselspital</td>\n",
       "      <td>Weill Cornell Medical College in Qatar</td>\n",
       "    </tr>\n",
       "    <tr>\n",
       "      <th>15275</th>\n",
       "      <td>0.36</td>\n",
       "      <td>0.17</td>\n",
       "      <td>0.27</td>\n",
       "      <td>0.21</td>\n",
       "      <td>Department of Ophthalmology, Inselspital</td>\n",
       "      <td>SUB9454898</td>\n",
       "    </tr>\n",
       "    <tr>\n",
       "      <th>15276</th>\n",
       "      <td>0.30</td>\n",
       "      <td>0.21</td>\n",
       "      <td>0.23</td>\n",
       "      <td>0.26</td>\n",
       "      <td>Department of Ophthalmology, Inselspital</td>\n",
       "      <td>SUB9454898</td>\n",
       "    </tr>\n",
       "  </tbody>\n",
       "</table>\n",
       "<p>15277 rows × 6 columns</p>\n",
       "</div>"
      ],
      "text/plain": [
       "       Department of Ophthalmology, Inselspital  GEO  SUB9454898  \\\n",
       "0                                          0.01 0.71        0.01   \n",
       "1                                          0.33 0.19        0.25   \n",
       "2                                          0.43 0.09        0.24   \n",
       "3                                          0.29 0.20        0.27   \n",
       "4                                          0.02 0.38        0.02   \n",
       "...                                         ...  ...         ...   \n",
       "15272                                      0.29 0.17        0.26   \n",
       "15273                                      0.54 0.16        0.07   \n",
       "15274                                      0.30 0.20        0.27   \n",
       "15275                                      0.36 0.17        0.27   \n",
       "15276                                      0.30 0.21        0.23   \n",
       "\n",
       "       Weill Cornell Medical College in Qatar  \\\n",
       "0                                        0.27   \n",
       "1                                        0.23   \n",
       "2                                        0.25   \n",
       "3                                        0.23   \n",
       "4                                        0.59   \n",
       "...                                       ...   \n",
       "15272                                    0.28   \n",
       "15273                                    0.22   \n",
       "15274                                    0.23   \n",
       "15275                                    0.21   \n",
       "15276                                    0.26   \n",
       "\n",
       "                                  predict_label  \\\n",
       "0                                           GEO   \n",
       "1      Department of Ophthalmology, Inselspital   \n",
       "2      Department of Ophthalmology, Inselspital   \n",
       "3      Department of Ophthalmology, Inselspital   \n",
       "4        Weill Cornell Medical College in Qatar   \n",
       "...                                         ...   \n",
       "15272  Department of Ophthalmology, Inselspital   \n",
       "15273  Department of Ophthalmology, Inselspital   \n",
       "15274  Department of Ophthalmology, Inselspital   \n",
       "15275  Department of Ophthalmology, Inselspital   \n",
       "15276  Department of Ophthalmology, Inselspital   \n",
       "\n",
       "                                   actual_label  \n",
       "0                                           GEO  \n",
       "1                                           GEO  \n",
       "2                                           GEO  \n",
       "3                                    SUB9454898  \n",
       "4                                           GEO  \n",
       "...                                         ...  \n",
       "15272                                SUB9454898  \n",
       "15273  Department of Ophthalmology, Inselspital  \n",
       "15274    Weill Cornell Medical College in Qatar  \n",
       "15275                                SUB9454898  \n",
       "15276                                SUB9454898  \n",
       "\n",
       "[15277 rows x 6 columns]"
      ]
     },
     "execution_count": 21,
     "metadata": {},
     "output_type": "execute_result"
    }
   ],
   "source": [
    "predictions['predict_label'] = y_pred\n",
    "predictions['actual_label'] = np.array(y_test)\n",
    "predictions"
   ]
  },
  {
   "cell_type": "code",
   "execution_count": 22,
   "metadata": {},
   "outputs": [],
   "source": [
    "predictions['correct_flag'] = np.where(predictions['predict_label'] == predictions['actual_label'],True,False)\n",
    "predictions['max_value'] = predictions.iloc[:,0:3].max(axis=1)"
   ]
  },
  {
   "cell_type": "code",
   "execution_count": 23,
   "metadata": {},
   "outputs": [
    {
     "data": {
      "text/plain": [
       "<matplotlib.legend.Legend at 0x7fa92cfddcd0>"
      ]
     },
     "execution_count": 23,
     "metadata": {},
     "output_type": "execute_result"
    },
    {
     "data": {
      "image/png": "[encoded data removed]",
      "text/plain": [
       "<Figure size 432x288 with 1 Axes>"
      ]
     },
     "metadata": {
      "needs_background": "light"
     },
     "output_type": "display_data"
    }
   ],
   "source": [
    "ax = sns.boxplot(x=\"actual_label\", y=\"max_value\", hue=\"correct_flag\",\n",
    "                 data=predictions)\n",
    "ax.set_xticklabels(ax.get_xticklabels(),rotation = 30)\n",
    "plt.legend(bbox_to_anchor=(1.02, 1), loc='upper left', borderaxespad=0)"
   ]
  },
  {
   "cell_type": "markdown",
   "metadata": {},
   "source": [
    "# Remove Even Probabilities"
   ]
  },
  {
   "cell_type": "markdown",
   "metadata": {},
   "source": [
    "## Data Preparation"
   ]
  },
  {
   "cell_type": "code",
   "execution_count": null,
   "metadata": {},
   "outputs": [],
   "source": [
    "X_train, X_test, y_train, y_test = train_test_split(cluster_df.loc[cluster_df['optimal'] != -1 , cluster_df.columns.str.match('^Topic|^sequence')], \n",
    "                                                    cluster_df.loc[cluster_df['optimal'] != -1,'center_name'], \n",
    "                                                    test_size = 0.20, \n",
    "                                                    random_state=42)"
   ]
  },
  {
   "cell_type": "code",
   "execution_count": null,
   "metadata": {},
   "outputs": [],
   "source": [
    "# Standardize\n",
    "scaler = StandardScaler(with_mean= False)\n",
    "scaler.fit(X_train)\n",
    "X_train = scaler.transform(X_train)\n",
    "X_test = scaler.transform(X_test)"
   ]
  },
  {
   "cell_type": "markdown",
   "metadata": {},
   "source": [
    "## Lazy Classifier"
   ]
  },
  {
   "cell_type": "code",
   "execution_count": null,
   "metadata": {},
   "outputs": [],
   "source": [
    "clf = LazyClassifier(predictions=True)\n",
    "models, predictions = clf.fit(X_train, X_test, y_train, y_test)\n",
    "models"
   ]
  },
  {
   "cell_type": "markdown",
   "metadata": {},
   "source": [
    "## Mixed Gaussian"
   ]
  },
  {
   "cell_type": "code",
   "execution_count": null,
   "metadata": {},
   "outputs": [],
   "source": [
    "model = GaussianMixture(n_components=5, tol=0.1, covariance_type = 'full', random_state = 42, n_init=3)\n",
    "model.fit(X_train)\n",
    "yhat = pd.Series(model.predict(X_test))\n",
    "pd.concat([yhat.reset_index(drop = True),y_test.reset_index(drop = True)],axis = 1, ignore_index = True).groupby([0])[1].value_counts()"
   ]
  },
  {
   "cell_type": "code",
   "execution_count": null,
   "metadata": {},
   "outputs": [],
   "source": [
    "yhat = pd.Series(model.predict(X_train))\n",
    "pd.concat([yhat.reset_index(drop = True),y_train.reset_index(drop = True)],axis = 1, ignore_index = True).groupby([0])[1].value_counts()"
   ]
  },
  {
   "cell_type": "markdown",
   "metadata": {},
   "source": [
    "## KMER's Of Interest"
   ]
  },
  {
   "cell_type": "code",
   "execution_count": null,
   "metadata": {},
   "outputs": [],
   "source": [
    "params = {\n",
    " \"learning_rate\" : [0.05,0.10,0.15,0.20,0.25,0.30],\n",
    " \"max_depth\" : [ 3, 4, 5, 6, 8, 10, 12, 15],\n",
    " \"min_child_weight\" : [ 1, 3, 5, 7 ],\n",
    " \"gamma\": [ 0.0, 0.1, 0.2 , 0.3, 0.4 ],\n",
    " \"colsample_bytree\" : [ 0.3, 0.4, 0.5 , 0.7 ]\n",
    "}"
   ]
  },
  {
   "cell_type": "code",
   "execution_count": null,
   "metadata": {},
   "outputs": [],
   "source": [
    "model = XGBClassifier()\n",
    "model= RandomizedSearchCV(model,param_distributions=params,n_iter=3,scoring='accuracy',n_jobs=-1,cv=5,verbose=3)\n",
    "model.fit(X_train, y_train)\n",
    "print(model)"
   ]
  },
  {
   "cell_type": "code",
   "execution_count": null,
   "metadata": {},
   "outputs": [],
   "source": [
    "model.best_estimator_"
   ]
  },
  {
   "cell_type": "code",
   "execution_count": null,
   "metadata": {},
   "outputs": [],
   "source": [
    "#Attempt 2\n",
    "params = {\n",
    " \"learning_rate\" : [0.05,0.075,0.1,0.125,0.15],\n",
    " \"max_depth\" : [13,15,17,19,21],\n",
    " \"min_child_weight\" : [1,2,3],\n",
    " \"gamma\": [ 0.25,0.3,0.35,0.4 ],\n",
    " \"colsample_bytree\" : [0.6,0.65,0.7,0.75,0.8 ]\n",
    "}\n",
    "model = XGBClassifier()\n",
    "model= RandomizedSearchCV(model,param_distributions=params,n_iter=3,scoring='accuracy',n_jobs=-1,cv=5,verbose=3)\n",
    "model.fit(X_train, y_train)\n",
    "print(model)"
   ]
  },
  {
   "cell_type": "code",
   "execution_count": null,
   "metadata": {},
   "outputs": [],
   "source": [
    "model.best_estimator_"
   ]
  },
  {
   "cell_type": "code",
   "execution_count": null,
   "metadata": {},
   "outputs": [],
   "source": [
    "model = XGBClassifier(learning_rate = 0.05,max_depth = 17, min_child_weight = 2, gamma= 0.4, colsample_bytree = 0.65)\n",
    "model.fit(X_train, y_train)"
   ]
  },
  {
   "cell_type": "code",
   "execution_count": null,
   "metadata": {},
   "outputs": [],
   "source": [
    "y_pred = model.predict_proba(X_test)\n",
    "predictions = pd.DataFrame(y_pred)\n",
    "predictions.columns = list(model.classes_)\n",
    "predictions"
   ]
  },
  {
   "cell_type": "code",
   "execution_count": null,
   "metadata": {},
   "outputs": [],
   "source": [
    "y_pred = model.predict(X_test)\n",
    "accuracy = accuracy_score(y_test, y_pred)\n",
    "print(\"Accuracy: %.2f%%\" % (accuracy * 100.0))"
   ]
  },
  {
   "cell_type": "code",
   "execution_count": null,
   "metadata": {},
   "outputs": [],
   "source": [
    "predictions['predict_label'] = y_pred\n",
    "predictions['actual_label'] = np.array(y_test)\n",
    "predictions"
   ]
  },
  {
   "cell_type": "code",
   "execution_count": null,
   "metadata": {},
   "outputs": [],
   "source": [
    "predictions['correct_flag'] = np.where(predictions['predict_label'] == predictions['actual_label'],True,False)\n",
    "predictions['max_value'] = predictions.iloc[:,0:3].max(axis=1)"
   ]
  },
  {
   "cell_type": "code",
   "execution_count": null,
   "metadata": {},
   "outputs": [],
   "source": [
    "ax = sns.boxplot(x=\"actual_label\", y=\"max_value\", hue=\"correct_flag\",\n",
    "                 data=predictions)\n",
    "ax.set_xticklabels(ax.get_xticklabels(),rotation = 90)\n",
    "plt.legend(bbox_to_anchor=(1.02, 1), loc='upper left', borderaxespad=0)"
   ]
  },
  {
   "cell_type": "markdown",
   "metadata": {},
   "source": [
    "# Create Function"
   ]
  },
  {
   "cell_type": "code",
   "execution_count": 44,
   "metadata": {},
   "outputs": [],
   "source": [
    "def classification_model(data, test_pct = 0.2,optimal = True, seed = 42, dep_var = 'center_name', learning_rate = [0.05,0.10,0.15,0.20,0.25,0.30],\n",
    "                        max_depth = [ 3, 4, 5, 6, 8, 10, 12, 15], min_child_weight = [ 1, 3, 5, 7 ],\n",
    "                        gamma = [ 0.0, 0.1, 0.2 , 0.3, 0.4 ], colsample_bytree = [ 0.3, 0.4, 0.5 , 0.7 ]):\n",
    "    # A little additional feature engineering\n",
    "    data['sequence_freq_a']  = data['kmer_seq'].str.count('A')/data['kmer_seq'].str.len()\n",
    "    data['sequence_freq_c']  = data['kmer_seq'].str.count('C')/data['kmer_seq'].str.len()\n",
    "    data['sequence_freq_g']  = data['kmer_seq'].str.count('G')/data['kmer_seq'].str.len()\n",
    "    data['sequence_freq_t']  = data['kmer_seq'].str.count('T')/data['kmer_seq'].str.len()\n",
    "    \n",
    "    print('Of the ' + str(data.shape[0]) + ' KMERs in our dataset, ' + str(data.loc[data['optimal'] == -1,:].shape[0]) + ' have an equal probability across topics -- meaning they are universal contaminants. If you left optimal = True then these KMERs are dropped from classification.')\n",
    "    # Split data\n",
    "    if optimal == True:\n",
    "        data = data.loc[data['optimal'] != -1,:]\n",
    "    else:\n",
    "        pass\n",
    "    X_train, X_test, y_train, y_test = train_test_split(data.loc[:, data.columns.str.match('^Topic|^sequence')], \n",
    "                                                    data[dep_var], \n",
    "                                                    test_size = test_pct, \n",
    "                                                    random_state=seed)\n",
    "    \n",
    "    # Standardize\n",
    "    scaler = StandardScaler(with_mean= False)\n",
    "    scaler.fit(X_train)\n",
    "    X_train = scaler.transform(X_train)\n",
    "    X_test = scaler.transform(X_test)\n",
    "    \n",
    "    # Model Set Up - First Pass\n",
    "    params = {\n",
    "     \"learning_rate\" : learning_rate,\n",
    "     \"max_depth\" : max_depth,\n",
    "     \"min_child_weight\" : min_child_weight,\n",
    "     \"gamma\": gamma,\n",
    "     \"colsample_bytree\" : colsample_bytree\n",
    "    }\n",
    "    \n",
    "    model = XGBClassifier()\n",
    "    model= RandomizedSearchCV(model,param_distributions=params,n_iter=3,scoring='accuracy',n_jobs=-1,cv=5,verbose=3)\n",
    "    model.fit(X_train, y_train)\n",
    "    \n",
    "    # Model Set Up - Second Pass\n",
    "    if model.best_params_['min_child_weight'] <= 2:\n",
    "        min_child_weight = np.arange(1, 3)\n",
    "    else:\n",
    "        min_child_weight = np.arange(model.best_params_['min_child_weight'] - 1, model.best_params_['min_child_weight'] + 1)\n",
    "        \n",
    "    if model.best_params_['max_depth'] <= 3:\n",
    "        max_depth = np.arange(1, 5)\n",
    "    else:\n",
    "        max_depth = np.arange(model.best_params_['max_depth'] - 2, model.best_params_['max_depth'] + 2) \n",
    "        \n",
    "    learning_rate = np.arange(model.best_params_['learning_rate'] - .05, model.best_params_['learning_rate'] + .05,step = 0.05) \n",
    "    gamma = np.arange(model.best_params_['gamma'] - .15, model.best_params_['gamma'] + .15, step = 0.1) \n",
    "    colsample_bytree = np.arange(model.best_params_['colsample_bytree'] - 0.05, model.best_params_['colsample_bytree'] + 0.05, step = 0.05) \n",
    "\n",
    "    params = {\n",
    "     \"learning_rate\" : learning_rate,\n",
    "     \"max_depth\" : max_depth,\n",
    "     \"min_child_weight\" : min_child_weight,\n",
    "     \"gamma\": gamma,\n",
    "     \"colsample_bytree\" : colsample_bytree\n",
    "    }\n",
    "    \n",
    "    model = XGBClassifier()\n",
    "    model= RandomizedSearchCV(model,param_distributions=params,n_iter=3,scoring='accuracy',n_jobs=-1,cv=5,verbose=3)\n",
    "    model.fit(X_train, y_train)\n",
    "    model = model.best_estimator_\n",
    "    \n",
    "    #Predictions\n",
    "    y_pred = model.predict_proba(X_test)\n",
    "    predictions = pd.DataFrame(y_pred)\n",
    "    predictions.columns = list(model.classes_)\n",
    "    y_pred = model.predict(X_test)\n",
    "    accuracy = accuracy_score(y_test, y_pred)\n",
    "    print(\"The classification accuracy (on unseen data) for \" + dep_var + \" is %.2f%%\" % (accuracy * 100.0))\n",
    "    predictions['predict_label'] = y_pred\n",
    "    predictions['actual_label'] = np.array(y_test)\n",
    "    predictions['correct_flag'] = np.where(predictions['predict_label'] == predictions['actual_label'],True,False)\n",
    "    predictions['max_value'] = predictions.iloc[:,0:3].max(axis=1)\n",
    "    \n",
    "    #Box Plot\n",
    "    plt.figure()\n",
    "    plt.subplot(1, 2, 1)\n",
    "    box = sns.boxplot(x=\"actual_label\", y=\"max_value\", hue=\"correct_flag\",\n",
    "                 data=predictions).set_xticklabels(ax.get_xticklabels(),rotation = 90)\n",
    "    plt.legend(bbox_to_anchor=(1.02, 1), loc='upper left', borderaxespad=0)\n",
    "    #Confusion Matrix\n",
    "    plt.subplot(1, 2, 1)\n",
    "    cf_matrix = confusion_matrix(y_test, y_pred)\n",
    "    cf_matrix = sns.heatmap(cf_matrix, annot=True, cmap='Blues')\n",
    "    cf_matrix.set_title('Confusion Matrix')\n",
    "    cf_matrix.set_xlabel('\\nPredicted Values')\n",
    "    cf_matrix.set_ylabel('Actual Values')\n",
    "#     cf_matrix.xaxis.set_ticklabels(['False','True'])\n",
    "#     cf_matrix.yaxis.set_ticklabels(['False','True'])\n",
    "    plt.show()\n",
    "    #Create Object List\n",
    "    object_list = [model,predictions,box,cf_matrix]\n",
    "    return object_list"
   ]
  },
  {
   "cell_type": "markdown",
   "metadata": {},
   "source": [
    "# Test Function"
   ]
  },
  {
   "cell_type": "code",
   "execution_count": 45,
   "metadata": {},
   "outputs": [
    {
     "name": "stdout",
     "output_type": "stream",
     "text": [
      "Of the 76384 KMERs in our dataset, 53400 have an equal probability across topics -- meaning they are universal contaminants. If you left optimal = True then these KMERs are dropped from classification.\n",
      "Fitting 5 folds for each of 3 candidates, totalling 15 fits\n"
     ]
    },
    {
     "name": "stderr",
     "output_type": "stream",
     "text": [
      "[Parallel(n_jobs=-1)]: Using backend LokyBackend with 4 concurrent workers.\n",
      "[Parallel(n_jobs=-1)]: Done  15 out of  15 | elapsed:   18.8s finished\n"
     ]
    },
    {
     "name": "stdout",
     "output_type": "stream",
     "text": [
      "Fitting 5 folds for each of 3 candidates, totalling 15 fits\n"
     ]
    },
    {
     "name": "stderr",
     "output_type": "stream",
     "text": [
      "[Parallel(n_jobs=-1)]: Using backend LokyBackend with 4 concurrent workers.\n",
      "[Parallel(n_jobs=-1)]: Done  15 out of  15 | elapsed:    8.7s finished\n"
     ]
    },
    {
     "name": "stdout",
     "output_type": "stream",
     "text": [
      "The classification accuracy (on unseen data) for center_name is 78.42%\n"
     ]
    },
    {
     "data": {
      "image/png": "[encoded data removed]",
      "text/plain": [
       "<Figure size 432x288 with 2 Axes>"
      ]
     },
     "metadata": {
      "needs_background": "light"
     },
     "output_type": "display_data"
    }
   ],
   "source": [
    "temp = classification_model(data = cluster_df)"
   ]
  },
  {
   "cell_type": "code",
   "execution_count": 48,
   "metadata": {},
   "outputs": [
    {
     "data": {
      "text/plain": [
       "XGBClassifier(base_score=0.5, booster='gbtree', colsample_bylevel=1,\n",
       "              colsample_bynode=1, colsample_bytree=0.55,\n",
       "              gamma=0.05000000000000002, gpu_id=-1, importance_type='gain',\n",
       "              interaction_constraints='', learning_rate=0.25, max_delta_step=0,\n",
       "              max_depth=6, min_child_weight=2, missing=nan,\n",
       "              monotone_constraints='()', n_estimators=100, n_jobs=0,\n",
       "              num_parallel_tree=1, objective='multi:softprob', random_state=0,\n",
       "              reg_alpha=0, reg_lambda=1, scale_pos_weight=None, subsample=1,\n",
       "              tree_method='exact', validate_parameters=1, verbosity=None)"
      ]
     },
     "execution_count": 48,
     "metadata": {},
     "output_type": "execute_result"
    }
   ],
   "source": [
    "temp[0]"
   ]
  },
  {
   "cell_type": "code",
   "execution_count": null,
   "metadata": {},
   "outputs": [],
   "source": []
  }
 ],
 "metadata": {
  "kernelspec": {
   "display_name": "Python 3",
   "language": "python",
   "name": "python3"
  },
  "language_info": {
   "codemirror_mode": {
    "name": "ipython",
    "version": 3
   },
   "file_extension": ".py",
   "mimetype": "text/x-python",
   "name": "python",
   "nbconvert_exporter": "python",
   "pygments_lexer": "ipython3",
   "version": "3.8.8"
  }
 },
 "nbformat": 4,
 "nbformat_minor": 4
}
